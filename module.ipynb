{
 "cells": [
  {
   "cell_type": "code",
   "execution_count": 4,
   "metadata": {},
   "outputs": [],
   "source": [
    "import urllib.request"
   ]
  },
  {
   "cell_type": "code",
   "execution_count": 3,
   "metadata": {},
   "outputs": [],
   "source": [
    "import os\n",
    "if not os.path.exists(\"pretrained_models\"):\n",
    "    os.makedirs(\"pretrained_models\")"
   ]
  },
  {
   "cell_type": "code",
   "execution_count": null,
   "metadata": {},
   "outputs": [],
   "source": [
    "\n",
    "url = \"http://vllab1.ucmerced.edu/~yli62/CartoonGAN/pytorch_pth/Hayao_net_G_float.pth\"\n",
    "save_path = os.path.join(\"pretrained_models\", \"Hayao_net_G_float.pth\")\n",
    "urllib.request.urlretrieve(url, save_path)\n",
    "print(f\"Downloaded file to {save_path}\")"
   ]
  },
  {
   "cell_type": "code",
   "execution_count": 5,
   "metadata": {},
   "outputs": [
    {
     "name": "stdout",
     "output_type": "stream",
     "text": [
      "Downloaded file to pretrained_models\\Hosoda_net_G_float.pth\n"
     ]
    }
   ],
   "source": [
    "\n",
    "url = \"http://vllab1.ucmerced.edu/~yli62/CartoonGAN/pytorch_pth/Hosoda_net_G_float.pth\"\n",
    "save_path = os.path.join(\"pretrained_models\", \"Hosoda_net_G_float.pth\")\n",
    "urllib.request.urlretrieve(url, save_path)\n",
    "print(f\"Downloaded file to {save_path}\")"
   ]
  },
  {
   "cell_type": "code",
   "execution_count": 7,
   "metadata": {},
   "outputs": [
    {
     "name": "stdout",
     "output_type": "stream",
     "text": [
      "Downloaded file to pretrained_models\\Paprika_net_G_float1.pth\n"
     ]
    }
   ],
   "source": [
    "\n",
    "url = \"http://vllab1.ucmerced.edu/~yli62/CartoonGAN/pytorch_pth/Paprika_net_G_float.pth\"\n",
    "save_path = os.path.join(\"pretrained_models\", \"Paprika_net_G_float1.pth\")\n",
    "urllib.request.urlretrieve(url, save_path)\n",
    "print(f\"Downloaded file to {save_path}\")"
   ]
  },
  {
   "cell_type": "code",
   "execution_count": null,
   "metadata": {},
   "outputs": [],
   "source": [
    "\n",
    "url = \"http://vllab1.ucmerced.edu/~yli62/CartoonGAN/pytorch_pth/Shinkai_net_G_float.pth\"\n",
    "save_path = os.path.join(\"pretrained_models\", \"Shinkai_net_G_float.pth\")\n",
    "urllib.request.urlretrieve(url, save_path)\n",
    "print(f\"Downloaded file to {save_path}\")"
   ]
  }
 ],
 "metadata": {
  "kernelspec": {
   "display_name": "Python 3",
   "language": "python",
   "name": "python3"
  },
  "language_info": {
   "codemirror_mode": {
    "name": "ipython",
    "version": 3
   },
   "file_extension": ".py",
   "mimetype": "text/x-python",
   "name": "python",
   "nbconvert_exporter": "python",
   "pygments_lexer": "ipython3",
   "version": "3.11.9"
  }
 },
 "nbformat": 4,
 "nbformat_minor": 2
}
